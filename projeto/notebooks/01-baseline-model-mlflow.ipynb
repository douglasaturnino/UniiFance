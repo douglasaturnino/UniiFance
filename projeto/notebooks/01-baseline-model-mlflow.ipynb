{
 "cells": [
  {
   "cell_type": "markdown",
   "metadata": {},
   "source": [
    "# 0.0. Imports"
   ]
  },
  {
   "cell_type": "code",
   "execution_count": 1,
   "metadata": {},
   "outputs": [],
   "source": [
    "import sys\n",
    "import joblib\n",
    "\n",
    "sys.path.insert(0, '../src/')\n",
    "\n",
    "from sklearn.pipeline import Pipeline\n",
    "from feature_engine.discretisation import EqualFrequencyDiscretiser\n",
    "from feature_engine.imputation import MeanMedianImputer\n",
    "from feature_engine.wrappers import SklearnTransformerWrapper\n",
    "from sklearn.preprocessing import StandardScaler\n",
    "from sklearn.linear_model import LogisticRegression\n",
    "\n",
    "from data.data_load import DataLoad\n",
    "from data.data_validation import DataValidation\n",
    "from data.data_transformation import DataTransformation\n",
    "from utils.utils import load_config_file\n",
    "from data.data_preprocess import DataPreprocess\n",
    "from train.train import TrainModels\n",
    "from evaluation.classifier_eval import ModelEvaluation"
   ]
  },
  {
   "cell_type": "markdown",
   "metadata": {},
   "source": [
    "# 1.0. Data Load"
   ]
  },
  {
   "cell_type": "code",
   "execution_count": 2,
   "metadata": {},
   "outputs": [
    {
     "name": "stdout",
     "output_type": "stream",
     "text": [
      "\u001b[2m2024-02-05 09:41:28\u001b[0m [\u001b[32m\u001b[1minfo     \u001b[0m] \u001b[1mComeçando a carga dos dados com o nome train_dataset_name\u001b[0m\n"
     ]
    }
   ],
   "source": [
    "dl = DataLoad()\n",
    "df = dl.load_data('train_dataset_name')"
   ]
  },
  {
   "cell_type": "markdown",
   "metadata": {},
   "source": [
    "# 2.0. Data Validation"
   ]
  },
  {
   "cell_type": "code",
   "execution_count": 3,
   "metadata": {},
   "outputs": [
    {
     "name": "stdout",
     "output_type": "stream",
     "text": [
      "\u001b[2m2024-02-05 09:41:28\u001b[0m [\u001b[32m\u001b[1minfo     \u001b[0m] \u001b[1mValidacao iniciou             \u001b[0m\n",
      "\u001b[2m2024-02-05 09:41:28\u001b[0m [\u001b[32m\u001b[1minfo     \u001b[0m] \u001b[1mValidation columns passed...  \u001b[0m\n",
      "\u001b[2m2024-02-05 09:41:28\u001b[0m [\u001b[32m\u001b[1minfo     \u001b[0m] \u001b[1mValidação com sucesso.        \u001b[0m\n"
     ]
    }
   ],
   "source": [
    "dv  = DataValidation()\n",
    "is_valid = dv.run(df)"
   ]
  },
  {
   "cell_type": "markdown",
   "metadata": {},
   "source": [
    "# 3.0. Data Transformation"
   ]
  },
  {
   "cell_type": "code",
   "execution_count": 4,
   "metadata": {},
   "outputs": [],
   "source": [
    "dt = DataTransformation(df)\n",
    "X_train, X_valid, y_train, y_valid = dt.train_test_spliting()"
   ]
  },
  {
   "cell_type": "markdown",
   "metadata": {},
   "source": [
    "# 4.0. Experimentations"
   ]
  },
  {
   "cell_type": "code",
   "execution_count": 5,
   "metadata": {},
   "outputs": [],
   "source": [
    "import mlflow\n",
    "from mlflow.tracking import MlflowClient"
   ]
  },
  {
   "cell_type": "code",
   "execution_count": 6,
   "metadata": {},
   "outputs": [
    {
     "data": {
      "text/plain": [
       "<Experiment: artifact_location='mlflow-artifacts:/1', creation_time=1707081553655, experiment_id='1', last_update_time=1707081553655, lifecycle_stage='active', name='prob_loan', tags={}>"
      ]
     },
     "execution_count": 6,
     "metadata": {},
     "output_type": "execute_result"
    }
   ],
   "source": [
    "mlflow.set_tracking_uri('http://127.0.0.1:5000')\n",
    "mlflow.set_experiment(\"prob_loan\")"
   ]
  },
  {
   "cell_type": "code",
   "execution_count": 7,
   "metadata": {},
   "outputs": [
    {
     "name": "stdout",
     "output_type": "stream",
     "text": [
      "\u001b[2m2024-02-05 09:41:30\u001b[0m [\u001b[32m\u001b[1minfo     \u001b[0m] \u001b[1mPré-processamento iniciou.    \u001b[0m\n",
      "\u001b[2m2024-02-05 09:41:30\u001b[0m [\u001b[32m\u001b[1minfo     \u001b[0m] \u001b[1mpré-processamento terminou    \u001b[0m\n",
      "\u001b[2m2024-02-05 09:41:30\u001b[0m [\u001b[32m\u001b[1minfo     \u001b[0m] \u001b[1mTransformação dos dados com preprocessador iniciou.\u001b[0m\n",
      "\u001b[2m2024-02-05 09:41:30\u001b[0m [\u001b[32m\u001b[1minfo     \u001b[0m] \u001b[1mTransformação dos dados com preprocessador terminou.\u001b[0m\n",
      "\u001b[2m2024-02-05 09:41:30\u001b[0m [\u001b[32m\u001b[1minfo     \u001b[0m] \u001b[1mTransformação dos dados com preprocessador iniciou.\u001b[0m\n",
      "\u001b[2m2024-02-05 09:41:30\u001b[0m [\u001b[32m\u001b[1minfo     \u001b[0m] \u001b[1mTransformação dos dados com preprocessador terminou.\u001b[0m\n",
      "\u001b[2m2024-02-05 09:41:32\u001b[0m [\u001b[32m\u001b[1minfo     \u001b[0m] \u001b[1mIniciou a validação cruzada.  \u001b[0m\n",
      "\u001b[2m2024-02-05 09:41:33\u001b[0m [\u001b[32m\u001b[1minfo     \u001b[0m] \u001b[1mIniciou a validação do modelo.\u001b[0m\n"
     ]
    }
   ],
   "source": [
    "with mlflow.start_run(run_name='baseline'):\n",
    "    mlflow.set_tag('model_name', 'lr_baseline')\n",
    "\n",
    "    # 1. etapa preprocessar os dados\n",
    "    pipe = Pipeline([('imputer', MeanMedianImputer(variables=load_config_file().get('vars_imputer'))),\n",
    "                 ('scaler', SklearnTransformerWrapper(StandardScaler()))])\n",
    "\n",
    "    preprocessdor = DataPreprocess(pipe)    \n",
    "    preprocessdor.train(X_train)\n",
    "\n",
    "    X_train_processed = preprocessdor.transform(X_train)\n",
    "    X_valid_processed = preprocessdor.transform(X_valid)\n",
    "    joblib.dump(preprocessdor, '../models/preprocess.joblib')\n",
    "\n",
    "    ## 1.1 logar um artefato(preprocessador)\n",
    "    mlflow.log_artifact('../models/preprocess.joblib')\n",
    "\n",
    "    ## 1.2. logar os parametros do preprocessador\n",
    "    mlflow.log_params(params={'imputer': pipe['imputer'],\n",
    "                              'scaler': pipe['scaler']})\n",
    "    \n",
    "    # 2.0. inicia o experimento com cross validation\n",
    "    model = LogisticRegression()\n",
    "    model_eval = ModelEvaluation(model,\n",
    "                                 X_train_processed,\n",
    "                                 y_train,\n",
    "                                 n_splits=5)\n",
    "    roc_auc_scores = model_eval.cross_val_evaluate()\n",
    "\n",
    "    # 2.1. logar o resultado da performance\n",
    "    mlflow.log_metric('train_roc_auc', roc_auc_scores.mean())\n",
    "    \n",
    "    # 3.0. trainar o modelo\n",
    "    model.fit(X_train_processed,y_train)\n",
    "\n",
    "    # 4.0. salvar as metricas de validação\n",
    "    y_val_preds = model_eval.model.predict_proba(X_valid_processed)[:, 1]\n",
    "    val_roc_auc = model_eval.evaluate_predictions(y_valid, y_val_preds)\n",
    "\n",
    "    mlflow.log_metric('valid_roc_auc', val_roc_auc)\n",
    "\n",
    "    # 5.0. logar o modelo\n",
    "    mlflow.sklearn.log_model(model,\n",
    "                             'lr_model',\n",
    "                             pyfunc_predict_fn='predict_proba')\n",
    "    mlflow.end_run()\n",
    "\n"
   ]
  },
  {
   "cell_type": "markdown",
   "metadata": {},
   "source": [
    "# 4.1. Experimento 01"
   ]
  },
  {
   "cell_type": "code",
   "execution_count": 8,
   "metadata": {},
   "outputs": [],
   "source": [
    "from mlflow.models import MetricThreshold\n",
    "from sklearn.dummy import DummyClassifier\n",
    "from mlflow.models import infer_signature"
   ]
  },
  {
   "cell_type": "code",
   "execution_count": null,
   "metadata": {},
   "outputs": [],
   "source": [
    "with mlflow.start_run(run_name='with_discretizer'):\n",
    "    mlflow.set_tag('model_name', 'lr_discretizer')\n",
    "\n",
    "    # 1. etapa preprocessar os dados\n",
    "    pipe = Pipeline([('imputer', MeanMedianImputer(variables=load_config_file().get('vars_imputer'))),\n",
    "                     ('discretizer', EqualFrequencyDiscretiser(variables=load_config_file().get('vars_discretize'))),\n",
    "                     ('scaler', SklearnTransformerWrapper(StandardScaler()))])\n",
    "\n",
    "    preprocessdor = DataPreprocess(pipe)    \n",
    "    preprocessdor.train(X_train)\n",
    "\n",
    "    X_train_processed = preprocessdor.transform(X_train)\n",
    "    X_valid_processed = preprocessdor.transform(X_valid)\n",
    "    joblib.dump(preprocessdor, '../models/preprocess.joblib')\n",
    "\n",
    "    ## 1.1 logar um artefato(preprocessador)\n",
    "    mlflow.log_artifact('../models/preprocess.joblib')\n",
    "\n",
    "    ## 1.2. logar os parametros do preprocessador\n",
    "    mlflow.log_params(params={'imputer': pipe['imputer'],\n",
    "                              'discretizer' : pipe['discretizer'],\n",
    "                              'scaler': pipe['scaler']})\n",
    "    \n",
    "    # 2.0. inicia o experimento com cross validation\n",
    "    model = LogisticRegression()\n",
    "    model_eval = ModelEvaluation(model,\n",
    "                                 X_train_processed,\n",
    "                                 y_train,\n",
    "                                 n_splits=5)\n",
    "    roc_auc_scores = model_eval.cross_val_evaluate()\n",
    "\n",
    "    # 2.1. logar o resultado da performance\n",
    "    mlflow.log_metric('train_roc_auc', roc_auc_scores.mean())\n",
    "    \n",
    "    # 3.0. trainar o modelo\n",
    "    model.fit(X_train_processed,y_train)\n",
    "\n",
    "    # 4.0. salvar as metricas de validação\n",
    "    y_val_preds = model_eval.model.predict_proba(X_valid_processed)[:, 1]\n",
    "    val_roc_auc = model_eval.evaluate_predictions(y_valid, y_val_preds)\n",
    "\n",
    "    mlflow.log_metric('valid_roc_auc', val_roc_auc)\n",
    "\n",
    "    # 5.0. logar o modelo\n",
    "    candidate_model_uri = mlflow.sklearn.log_model(model,\n",
    "                                               'lr_model').model_uri\n",
    "    \n",
    "    signature = infer_signature(X_valid_processed, y_valid)\n",
    "\n",
    "    eval_data = X_valid_processed\n",
    "    eval_data['label'] = y_valid\n",
    "\n",
    "    thereshold = {\n",
    "        \"accuracy_score\": MetricThreshold(\n",
    "            threshold=0.7, # o score da acuracia precisa ser > 0.7\n",
    "            min_absolute_change=0.05,\n",
    "            min_relative_change=0.05,\n",
    "            greater_is_better=True\n",
    "        )\n",
    "    }\n",
    "\n",
    "    baseline_model = DummyClassifier(strategy='uniform').fit(X_train_processed, y_train)\n",
    "    baseline_model_uri = mlflow.sklearn.log_model(baseline_model,\n",
    "                                                  'baseline_model',\n",
    "                                                  signature=signature).model_uri\n",
    "    \n",
    "    # processo responsavel por avaliar o modelo do mlflow\n",
    "    mlflow.evaluate(candidate_model_uri,\n",
    "                    eval_data,\n",
    "                    targets='label',\n",
    "                    model_type='classifier',\n",
    "                    validation_thresholds=thereshold,\n",
    "                    baseline_model=baseline_model_uri)\n",
    "    \n",
    "    # explicabilidade do modelo com SHAP\n",
    "    mlflow.shap.log_explanation(model.predict,\n",
    "                                X_valid_processed.drop('label', axis=1))\n",
    "\n",
    "    mlflow.end_run()\n",
    "\n"
   ]
  }
 ],
 "metadata": {
  "kernelspec": {
   "display_name": ".venv",
   "language": "python",
   "name": "python3"
  },
  "language_info": {
   "codemirror_mode": {
    "name": "ipython",
    "version": 3
   },
   "file_extension": ".py",
   "mimetype": "text/x-python",
   "name": "python",
   "nbconvert_exporter": "python",
   "pygments_lexer": "ipython3",
   "version": "3.10.12"
  }
 },
 "nbformat": 4,
 "nbformat_minor": 2
}

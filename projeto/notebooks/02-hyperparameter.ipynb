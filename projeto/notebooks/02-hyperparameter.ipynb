{
 "cells": [
  {
   "cell_type": "markdown",
   "metadata": {},
   "source": [
    "# 0.0. Imports"
   ]
  },
  {
   "cell_type": "code",
   "execution_count": 1,
   "metadata": {},
   "outputs": [],
   "source": [
    "import sys\n",
    "import joblib\n",
    "\n",
    "sys.path.insert(0, '../src/')\n",
    "\n",
    "from sklearn.pipeline import Pipeline\n",
    "from feature_engine.discretisation import EqualFrequencyDiscretiser\n",
    "from feature_engine.imputation import MeanMedianImputer\n",
    "from feature_engine.wrappers import SklearnTransformerWrapper\n",
    "from sklearn.preprocessing import StandardScaler\n",
    "from sklearn.linear_model import LogisticRegression\n",
    "\n",
    "from data.data_load import DataLoad\n",
    "from data.data_validation import DataValidation\n",
    "from data.data_transformation import DataTransformation\n",
    "from utils.utils import load_config_file\n",
    "from data.data_preprocess import DataPreprocess\n",
    "from train.train import TrainModels\n",
    "from evaluation.classifier_eval import ModelEvaluation"
   ]
  },
  {
   "cell_type": "markdown",
   "metadata": {},
   "source": [
    "# 1.0. Data Load"
   ]
  },
  {
   "cell_type": "code",
   "execution_count": 2,
   "metadata": {},
   "outputs": [
    {
     "name": "stdout",
     "output_type": "stream",
     "text": [
      "\u001b[2m2024-02-05 15:13:41\u001b[0m [\u001b[32m\u001b[1minfo     \u001b[0m] \u001b[1mComeçando a carga dos dados com o nome train_dataset_name\u001b[0m\n"
     ]
    }
   ],
   "source": [
    "dl = DataLoad()\n",
    "df = dl.load_data('train_dataset_name')"
   ]
  },
  {
   "cell_type": "markdown",
   "metadata": {},
   "source": [
    "# 2.0. Data Validation"
   ]
  },
  {
   "cell_type": "code",
   "execution_count": 3,
   "metadata": {},
   "outputs": [
    {
     "name": "stdout",
     "output_type": "stream",
     "text": [
      "\u001b[2m2024-02-05 15:13:41\u001b[0m [\u001b[32m\u001b[1minfo     \u001b[0m] \u001b[1mValidacao iniciou             \u001b[0m\n",
      "\u001b[2m2024-02-05 15:13:41\u001b[0m [\u001b[32m\u001b[1minfo     \u001b[0m] \u001b[1mValidation columns passed...  \u001b[0m\n",
      "\u001b[2m2024-02-05 15:13:41\u001b[0m [\u001b[32m\u001b[1minfo     \u001b[0m] \u001b[1mValidação com sucesso.        \u001b[0m\n"
     ]
    }
   ],
   "source": [
    "dv  = DataValidation()\n",
    "is_valid = dv.run(df)"
   ]
  },
  {
   "cell_type": "markdown",
   "metadata": {},
   "source": [
    "# 3.0. Data Transformation"
   ]
  },
  {
   "cell_type": "code",
   "execution_count": 4,
   "metadata": {},
   "outputs": [],
   "source": [
    "dt = DataTransformation(df)\n",
    "X_train, X_valid, y_train, y_valid = dt.train_test_spliting()"
   ]
  },
  {
   "cell_type": "markdown",
   "metadata": {},
   "source": [
    "# 4.0. Experimentations"
   ]
  },
  {
   "cell_type": "code",
   "execution_count": 5,
   "metadata": {},
   "outputs": [],
   "source": [
    "import mlflow\n",
    "from mlflow.tracking import MlflowClient"
   ]
  },
  {
   "cell_type": "code",
   "execution_count": 6,
   "metadata": {},
   "outputs": [
    {
     "data": {
      "text/plain": [
       "<Experiment: artifact_location='mlflow-artifacts:/1', creation_time=1707081553655, experiment_id='1', last_update_time=1707081553655, lifecycle_stage='active', name='prob_loan', tags={}>"
      ]
     },
     "execution_count": 6,
     "metadata": {},
     "output_type": "execute_result"
    }
   ],
   "source": [
    "mlflow.set_tracking_uri('http://127.0.0.1:5000')\n",
    "mlflow.set_experiment(\"prob_loan\")"
   ]
  },
  {
   "cell_type": "markdown",
   "metadata": {},
   "source": [
    "# 4.1. Hyperparameters"
   ]
  },
  {
   "cell_type": "code",
   "execution_count": 7,
   "metadata": {},
   "outputs": [],
   "source": [
    "from mlflow.models import MetricThreshold\n",
    "from sklearn.dummy import DummyClassifier\n",
    "from mlflow.models import infer_signature"
   ]
  },
  {
   "cell_type": "code",
   "execution_count": 8,
   "metadata": {},
   "outputs": [],
   "source": [
    "from hyperopt import fmin, tpe, hp, STATUS_OK"
   ]
  },
  {
   "cell_type": "code",
   "execution_count": 9,
   "metadata": {},
   "outputs": [],
   "source": [
    "pipe = Pipeline([('imputer', MeanMedianImputer(variables=load_config_file().get('vars_imputer'))),\n",
    "                 ('discretizer', EqualFrequencyDiscretiser(variables=load_config_file().get('vars_discretizer'))),\n",
    "                 ('scaler', SklearnTransformerWrapper(StandardScaler()))])"
   ]
  },
  {
   "cell_type": "code",
   "execution_count": 10,
   "metadata": {},
   "outputs": [],
   "source": [
    "def objective(params):\n",
    "    with mlflow.start_run(run_name='with_discretizer_hyperopt'):\n",
    "        mlflow.set_tag('model_name', 'lr_hyperopt')\n",
    "\n",
    "        mlflow.log_params(params)\n",
    "\n",
    "       \n",
    "\n",
    "        preprocessdor = DataPreprocess(pipe)    \n",
    "        preprocessdor.train(X_train)\n",
    "\n",
    "        X_train_processed = preprocessdor.transform(X_train)\n",
    "        X_valid_processed = preprocessdor.transform(X_valid)\n",
    "        joblib.dump(preprocessdor, '../models/preprocess.joblib')\n",
    "\n",
    "        ## 1.1 logar um artefato(preprocessador)\n",
    "        mlflow.log_artifact('../models/preprocess.joblib')\n",
    "\n",
    "        ## 1.2. logar os parametros do preprocessador\n",
    "        mlflow.log_params(params={'imputer': pipe['imputer'],\n",
    "                                'discretizer' : pipe['discretizer'],\n",
    "                                'scaler': pipe['scaler']})\n",
    "        \n",
    "        # 2.0. inicia o experimento com cross validation\n",
    "        model = LogisticRegression(**params)\n",
    "        model_eval = ModelEvaluation(model,\n",
    "                                    X_train_processed,\n",
    "                                    y_train,\n",
    "                                    n_splits=5)\n",
    "        roc_auc_scores = model_eval.cross_val_evaluate()\n",
    "\n",
    "        # 2.1. logar o resultado da performance\n",
    "        mlflow.log_metric('train_roc_auc', roc_auc_scores.mean())\n",
    "        \n",
    "        # 3.0. trainar o modelo\n",
    "        model.fit(X_train_processed,y_train)\n",
    "\n",
    "        # 4.0. salvar as metricas de validação\n",
    "        y_val_preds = model_eval.model.predict_proba(X_valid_processed)[:, 1]\n",
    "        val_roc_auc = model_eval.evaluate_predictions(y_valid, y_val_preds)\n",
    "\n",
    "        mlflow.log_metric('valid_roc_auc', val_roc_auc)\n",
    "\n",
    "        # 5.0. logar o modelo\n",
    "        candidate_model_uri = mlflow.sklearn.log_model(model,\n",
    "                                                'lr_model').model_uri\n",
    "        \n",
    "        signature = infer_signature(X_valid_processed, y_valid)\n",
    "\n",
    "        eval_data = X_valid_processed\n",
    "        eval_data['label'] = y_valid\n",
    "\n",
    "        thereshold = {\n",
    "            \"accuracy_score\": MetricThreshold(\n",
    "                threshold=0.1, # o score da acuracia precisa ser > 0.7\n",
    "                min_absolute_change=0.05,\n",
    "                min_relative_change=0.05,\n",
    "                greater_is_better=True\n",
    "            )\n",
    "        }\n",
    "\n",
    "        baseline_model = DummyClassifier(strategy='uniform').fit(X_train_processed, y_train)\n",
    "        baseline_model_uri = mlflow.sklearn.log_model(baseline_model,\n",
    "                                                    'baseline_model',\n",
    "                                                    signature=signature).model_uri\n",
    "        \n",
    "        # processo responsavel por avaliar o modelo do mlflow\n",
    "        mlflow.evaluate(candidate_model_uri,\n",
    "                        eval_data,\n",
    "                        targets='label',\n",
    "                        model_type='classifier',\n",
    "                        validation_thresholds=thereshold,\n",
    "                        baseline_model=baseline_model_uri)\n",
    "        \n",
    "        mlflow.end_run()\n",
    "\n",
    "        return {'loss': -roc_auc_scores.mean(),\n",
    "                'status': STATUS_OK}\n",
    "\n"
   ]
  },
  {
   "cell_type": "code",
   "execution_count": 11,
   "metadata": {},
   "outputs": [],
   "source": [
    "search_space = {'warm_start' : hp.choice('warm_start', [True, False]),\n",
    "                'fit_intercept' : hp.choice('fit_intercept', [True, False]),\n",
    "                'tol' : hp.uniform('tol', 0.00001, 0.0001),\n",
    "                'C' : hp.uniform('C', 0.05, 3),\n",
    "                'solver' : hp.choice('solver', ['newton-cg', 'lbfgs', 'liblinear']),\n",
    "                'max_iter' : hp.choice('max_iter', range(100,1000)),\n",
    "                'multi_class' : 'auto',\n",
    "                'class_weight' : hp.choice('class_weight', [None, 'balanced'])}"
   ]
  },
  {
   "cell_type": "code",
   "execution_count": 12,
   "metadata": {},
   "outputs": [
    {
     "name": "stdout",
     "output_type": "stream",
     "text": [
      "\u001b[2m2024-02-05 15:13:49\u001b[0m [\u001b[32m\u001b[1minfo     \u001b[0m] \u001b[1mPré-processamento iniciou.    \u001b[0m\n",
      "\u001b[2m2024-02-05 15:13:49\u001b[0m [\u001b[32m\u001b[1minfo     \u001b[0m] \u001b[1mpré-processamento terminou    \u001b[0m\n",
      "\u001b[2m2024-02-05 15:13:49\u001b[0m [\u001b[32m\u001b[1minfo     \u001b[0m] \u001b[1mTransformação dos dados com preprocessador iniciou.\u001b[0m\n",
      "\u001b[2m2024-02-05 15:13:49\u001b[0m [\u001b[32m\u001b[1minfo     \u001b[0m] \u001b[1mTransformação dos dados com preprocessador terminou.\u001b[0m\n",
      "\u001b[2m2024-02-05 15:13:49\u001b[0m [\u001b[32m\u001b[1minfo     \u001b[0m] \u001b[1mTransformação dos dados com preprocessador iniciou.\u001b[0m\n",
      "\u001b[2m2024-02-05 15:13:49\u001b[0m [\u001b[32m\u001b[1minfo     \u001b[0m] \u001b[1mTransformação dos dados com preprocessador terminou.\u001b[0m\n",
      "\u001b[2m2024-02-05 15:13:50\u001b[0m [\u001b[32m\u001b[1minfo     \u001b[0m] \u001b[1mIniciou a validação cruzada.  \u001b[0m\n",
      "\u001b[2m2024-02-05 15:13:51\u001b[0m [\u001b[32m\u001b[1minfo     \u001b[0m] \u001b[1mIniciou a validação do modelo.\u001b[0m\n",
      "  0%|          | 0/5 [00:04<?, ?trial/s, best loss=?]"
     ]
    },
    {
     "name": "stderr",
     "output_type": "stream",
     "text": [
      "/mnt/0165652C522E8ECA/ProjetosDeProgramacao/mlflow/.venv/lib/python3.10/site-packages/mlflow/types/utils.py:393: UserWarning: Hint: Inferred schema contains integer column(s). Integer columns in Python cannot represent missing values. If your input data contains missing values at inference time, it will be encoded as floats and will cause a schema enforcement error. The best way to avoid this problem is to infer the model schema based on a realistic data sample (training dataset) that includes missing values. Alternatively, you can declare integer columns as doubles (float64) whenever these columns may have missing values. See `Handling Integers With Missing Values <https://www.mlflow.org/docs/latest/models.html#handling-integers-with-missing-values>`_ for more details.\n",
      "  warnings.warn(\n",
      "\n",
      "/mnt/0165652C522E8ECA/ProjetosDeProgramacao/mlflow/.venv/lib/python3.10/site-packages/_distutils_hack/__init__.py:18: UserWarning: Distutils was imported before Setuptools, but importing Setuptools also replaces the `distutils` module in `sys.modules`. This may lead to undesirable behaviors or errors. To avoid these issues, avoid using distutils directly, ensure that setuptools is installed in the traditional way (e.g. not an editable install), and/or make sure that setuptools is always imported before distutils.\n",
      "  warnings.warn(\n",
      "\n",
      "/mnt/0165652C522E8ECA/ProjetosDeProgramacao/mlflow/.venv/lib/python3.10/site-packages/_distutils_hack/__init__.py:33: UserWarning: Setuptools is replacing distutils.\n",
      "  warnings.warn(\"Setuptools is replacing distutils.\")\n",
      "\n",
      "/mnt/0165652C522E8ECA/ProjetosDeProgramacao/mlflow/.venv/lib/python3.10/site-packages/tqdm/auto.py:21: TqdmWarning: IProgress not found. Please update jupyter and ipywidgets. See https://ipywidgets.readthedocs.io/en/stable/user_install.html\n",
      "  from .autonotebook import tqdm as notebook_tqdm\n",
      "\n",
      "Downloading artifacts:   0%|          | 0/5 [00:00<?, ?it/s]\n",
      "Downloading artifacts:  20%|##        | 1/5 [00:00<00:00, 19.80it/s]\n",
      "Downloading artifacts:  40%|####      | 2/5 [00:00<00:00, 36.31it/s]\n",
      "Downloading artifacts:  60%|######    | 3/5 [00:00<00:00, 48.30it/s]\n",
      "Downloading artifacts:  80%|########  | 4/5 [00:00<00:00, 59.25it/s]\n",
      "Downloading artifacts: 100%|##########| 5/5 [00:00<00:00, 72.09it/s]\n",
      "Downloading artifacts: 100%|##########| 5/5 [00:00<00:00, 68.67it/s]\n",
      "Downloading artifacts:   0%|          | 0/5 [00:00<?, ?it/s]\n",
      "Downloading artifacts:  20%|##        | 1/5 [00:00<00:00, 58.26it/s]\n",
      "Downloading artifacts:  40%|####      | 2/5 [00:00<00:00, 96.69it/s]\n",
      "Downloading artifacts:  60%|######    | 3/5 [00:00<00:00, 123.60it/s]\n",
      "Downloading artifacts:  80%|########  | 4/5 [00:00<00:00, 113.69it/s]\n",
      "Downloading artifacts: 100%|##########| 5/5 [00:00<00:00, 133.11it/s]\n",
      "Downloading artifacts: 100%|##########| 5/5 [00:00<00:00, 126.46it/s]\n",
      "/mnt/0165652C522E8ECA/ProjetosDeProgramacao/mlflow/.venv/lib/python3.10/site-packages/mlflow/data/digest_utils.py:29: FutureWarning: DataFrame.applymap has been deprecated. Use DataFrame.map instead.\n",
      "  string_columns = trimmed_df.columns[(df.applymap(type) == str).all(0)]\n",
      "\n",
      "/mnt/0165652C522E8ECA/ProjetosDeProgramacao/mlflow/.venv/lib/python3.10/site-packages/mlflow/models/evaluation/base.py:414: FutureWarning: DataFrame.applymap has been deprecated. Use DataFrame.map instead.\n",
      "  data = data.applymap(_hash_array_like_element_as_bytes)\n",
      "\n",
      "/mnt/0165652C522E8ECA/ProjetosDeProgramacao/mlflow/.venv/lib/python3.10/site-packages/mlflow/models/evaluation/base.py:414: FutureWarning: DataFrame.applymap has been deprecated. Use DataFrame.map instead.\n",
      "  data = data.applymap(_hash_array_like_element_as_bytes)\n",
      "\n",
      "/mnt/0165652C522E8ECA/ProjetosDeProgramacao/mlflow/.venv/lib/python3.10/site-packages/mlflow/types/utils.py:393: UserWarning: Hint: Inferred schema contains integer column(s). Integer columns in Python cannot represent missing values. If your input data contains missing values at inference time, it will be encoded as floats and will cause a schema enforcement error. The best way to avoid this problem is to infer the model schema based on a realistic data sample (training dataset) that includes missing values. Alternatively, you can declare integer columns as doubles (float64) whenever these columns may have missing values. See `Handling Integers With Missing Values <https://www.mlflow.org/docs/latest/models.html#handling-integers-with-missing-values>`_ for more details.\n",
      "  warnings.warn(\n",
      "\n",
      "2024/02/05 15:14:04 INFO mlflow.models.evaluation.base: Evaluating the model with the default evaluator.\n",
      "\n",
      "2024/02/05 15:14:04 INFO mlflow.models.evaluation.default_evaluator: Evaluating candidate model:\n",
      "\n",
      "2024/02/05 15:14:04 INFO mlflow.models.evaluation.default_evaluator: Computing model predictions.\n",
      "\n",
      "2024/02/05 15:14:04 INFO mlflow.models.evaluation.default_evaluator: The evaluation dataset is inferred as binary dataset, positive label is 1, negative label is 0.\n",
      "\n",
      "2024/02/05 15:14:04 INFO mlflow.models.evaluation.default_evaluator: Testing metrics on first row...\n",
      "\n",
      "2024/02/05 15:14:16 INFO mlflow.models.evaluation.default_evaluator: Shap explainer LinearExplainer is used.\n",
      "\n",
      "Unable to serialize underlying model using MLflow, will use SHAP serialization\n",
      "\n",
      "2024/02/05 15:14:16 WARNING mlflow.models.evaluation.default_evaluator: Logging explainer failed. Reason: AttributeError(\"'LogisticRegression' object has no attribute 'save'\"). Set logging level to DEBUG to see the full traceback.\n",
      "\n",
      "2024/02/05 15:14:19 INFO mlflow.models.evaluation.default_evaluator: Evaluating baseline model:\n",
      "\n",
      "2024/02/05 15:14:19 INFO mlflow.models.evaluation.default_evaluator: Computing model predictions.\n",
      "\n",
      "2024/02/05 15:14:19 INFO mlflow.models.evaluation.default_evaluator: The evaluation dataset is inferred as binary dataset, positive label is 1, negative label is 0.\n",
      "\n",
      "2024/02/05 15:14:19 INFO mlflow.models.evaluation.default_evaluator: Testing metrics on first row...\n",
      "\n",
      "2024/02/05 15:14:19 INFO mlflow.models.evaluation.base: Validating generated model metrics\n",
      "\n",
      "2024/02/05 15:14:19 INFO mlflow.models.evaluation.base: Model validation passed!\n",
      "\n"
     ]
    },
    {
     "name": "stdout",
     "output_type": "stream",
     "text": [
      "\u001b[2m2024-02-05 15:14:20\u001b[0m [\u001b[32m\u001b[1minfo     \u001b[0m] \u001b[1mPré-processamento iniciou.    \u001b[0m\n",
      "\u001b[2m2024-02-05 15:14:21\u001b[0m [\u001b[32m\u001b[1minfo     \u001b[0m] \u001b[1mpré-processamento terminou    \u001b[0m\n",
      "\u001b[2m2024-02-05 15:14:21\u001b[0m [\u001b[32m\u001b[1minfo     \u001b[0m] \u001b[1mTransformação dos dados com preprocessador iniciou.\u001b[0m\n",
      "\u001b[2m2024-02-05 15:14:21\u001b[0m [\u001b[32m\u001b[1minfo     \u001b[0m] \u001b[1mTransformação dos dados com preprocessador terminou.\u001b[0m\n",
      "\u001b[2m2024-02-05 15:14:21\u001b[0m [\u001b[32m\u001b[1minfo     \u001b[0m] \u001b[1mTransformação dos dados com preprocessador iniciou.\u001b[0m\n",
      "\u001b[2m2024-02-05 15:14:21\u001b[0m [\u001b[32m\u001b[1minfo     \u001b[0m] \u001b[1mTransformação dos dados com preprocessador terminou.\u001b[0m\n",
      "\u001b[2m2024-02-05 15:14:21\u001b[0m [\u001b[32m\u001b[1minfo     \u001b[0m] \u001b[1mIniciou a validação cruzada.  \u001b[0m\n",
      "\u001b[2m2024-02-05 15:14:23\u001b[0m [\u001b[32m\u001b[1minfo     \u001b[0m] \u001b[1mIniciou a validação do modelo.\u001b[0m\n",
      " 20%|██        | 1/5 [00:36<02:10, 32.74s/trial, best loss: -0.8062423189854571]"
     ]
    },
    {
     "name": "stderr",
     "output_type": "stream",
     "text": [
      "Distutils was imported before Setuptools, but importing Setuptools also replaces the `distutils` module in `sys.modules`. This may lead to undesirable behaviors or errors. To avoid these issues, avoid using distutils directly, ensure that setuptools is installed in the traditional way (e.g. not an editable install), and/or make sure that setuptools is always imported before distutils.\n",
      "\n",
      "Setuptools is replacing distutils.\n",
      "\n",
      "Hint: Inferred schema contains integer column(s). Integer columns in Python cannot represent missing values. If your input data contains missing values at inference time, it will be encoded as floats and will cause a schema enforcement error. The best way to avoid this problem is to infer the model schema based on a realistic data sample (training dataset) that includes missing values. Alternatively, you can declare integer columns as doubles (float64) whenever these columns may have missing values. See `Handling Integers With Missing Values <https://www.mlflow.org/docs/latest/models.html#handling-integers-with-missing-values>`_ for more details.\n",
      "\n",
      "Distutils was imported before Setuptools, but importing Setuptools also replaces the `distutils` module in `sys.modules`. This may lead to undesirable behaviors or errors. To avoid these issues, avoid using distutils directly, ensure that setuptools is installed in the traditional way (e.g. not an editable install), and/or make sure that setuptools is always imported before distutils.\n",
      "\n",
      "Setuptools is replacing distutils.\n",
      "\n",
      "Downloading artifacts:   0%|          | 0/5 [00:00<?, ?it/s]\n",
      "Downloading artifacts:  20%|##        | 1/5 [00:00<00:00, 168.21it/s]\n",
      "Downloading artifacts:  40%|####      | 2/5 [00:00<00:00, 105.76it/s]\n",
      "Downloading artifacts:  60%|######    | 3/5 [00:00<00:00, 139.72it/s]\n",
      "Downloading artifacts:  80%|########  | 4/5 [00:00<00:00, 137.17it/s]\n",
      "Downloading artifacts: 100%|##########| 5/5 [00:00<00:00, 157.68it/s]\n",
      "Downloading artifacts: 100%|##########| 5/5 [00:00<00:00, 148.34it/s]\n",
      "Downloading artifacts:   0%|          | 0/5 [00:00<?, ?it/s]\n",
      "Downloading artifacts:  20%|##        | 1/5 [00:00<00:00, 66.85it/s]\n",
      "Downloading artifacts:  40%|####      | 2/5 [00:00<00:00, 111.25it/s]\n",
      "Downloading artifacts:  60%|######    | 3/5 [00:00<00:00, 131.63it/s]\n",
      "Downloading artifacts:  80%|########  | 4/5 [00:00<00:00, 129.21it/s]\n",
      "Downloading artifacts: 100%|##########| 5/5 [00:00<00:00, 149.27it/s]\n",
      "Downloading artifacts: 100%|##########| 5/5 [00:00<00:00, 141.33it/s]\n",
      "DataFrame.applymap has been deprecated. Use DataFrame.map instead.\n",
      "\n",
      "DataFrame.applymap has been deprecated. Use DataFrame.map instead.\n",
      "\n",
      "DataFrame.applymap has been deprecated. Use DataFrame.map instead.\n",
      "\n",
      "Hint: Inferred schema contains integer column(s). Integer columns in Python cannot represent missing values. If your input data contains missing values at inference time, it will be encoded as floats and will cause a schema enforcement error. The best way to avoid this problem is to infer the model schema based on a realistic data sample (training dataset) that includes missing values. Alternatively, you can declare integer columns as doubles (float64) whenever these columns may have missing values. See `Handling Integers With Missing Values <https://www.mlflow.org/docs/latest/models.html#handling-integers-with-missing-values>`_ for more details.\n",
      "\n",
      "2024/02/05 15:14:30 INFO mlflow.models.evaluation.base: Evaluating the model with the default evaluator.\n",
      "\n",
      "2024/02/05 15:14:30 INFO mlflow.models.evaluation.default_evaluator: Evaluating candidate model:\n",
      "\n",
      "2024/02/05 15:14:30 INFO mlflow.models.evaluation.default_evaluator: Computing model predictions.\n",
      "\n",
      "2024/02/05 15:14:30 INFO mlflow.models.evaluation.default_evaluator: The evaluation dataset is inferred as binary dataset, positive label is 1, negative label is 0.\n",
      "\n",
      "2024/02/05 15:14:30 INFO mlflow.models.evaluation.default_evaluator: Testing metrics on first row...\n",
      "\n",
      "2024/02/05 15:14:32 INFO mlflow.models.evaluation.default_evaluator: Shap explainer LinearExplainer is used.\n",
      "\n",
      "Unable to serialize underlying model using MLflow, will use SHAP serialization\n",
      "\n",
      "2024/02/05 15:14:32 WARNING mlflow.models.evaluation.default_evaluator: Logging explainer failed. Reason: AttributeError(\"'LogisticRegression' object has no attribute 'save'\"). Set logging level to DEBUG to see the full traceback.\n",
      "\n",
      "2024/02/05 15:14:34 INFO mlflow.models.evaluation.default_evaluator: Evaluating baseline model:\n",
      "\n",
      "2024/02/05 15:14:34 INFO mlflow.models.evaluation.default_evaluator: Computing model predictions.\n",
      "\n",
      "2024/02/05 15:14:34 INFO mlflow.models.evaluation.default_evaluator: The evaluation dataset is inferred as binary dataset, positive label is 1, negative label is 0.\n",
      "\n",
      "2024/02/05 15:14:35 INFO mlflow.models.evaluation.default_evaluator: Testing metrics on first row...\n",
      "\n",
      "2024/02/05 15:14:35 INFO mlflow.models.evaluation.base: Validating generated model metrics\n",
      "\n",
      "2024/02/05 15:14:35 INFO mlflow.models.evaluation.base: Model validation passed!\n",
      "\n"
     ]
    },
    {
     "name": "stdout",
     "output_type": "stream",
     "text": [
      "\u001b[2m2024-02-05 15:14:35\u001b[0m [\u001b[32m\u001b[1minfo     \u001b[0m] \u001b[1mPré-processamento iniciou.    \u001b[0m\n",
      "\u001b[2m2024-02-05 15:14:36\u001b[0m [\u001b[32m\u001b[1minfo     \u001b[0m] \u001b[1mpré-processamento terminou    \u001b[0m\n",
      "\u001b[2m2024-02-05 15:14:36\u001b[0m [\u001b[32m\u001b[1minfo     \u001b[0m] \u001b[1mTransformação dos dados com preprocessador iniciou.\u001b[0m\n",
      "\u001b[2m2024-02-05 15:14:36\u001b[0m [\u001b[32m\u001b[1minfo     \u001b[0m] \u001b[1mTransformação dos dados com preprocessador terminou.\u001b[0m\n",
      "\u001b[2m2024-02-05 15:14:36\u001b[0m [\u001b[32m\u001b[1minfo     \u001b[0m] \u001b[1mTransformação dos dados com preprocessador iniciou.\u001b[0m\n",
      "\u001b[2m2024-02-05 15:14:36\u001b[0m [\u001b[32m\u001b[1minfo     \u001b[0m] \u001b[1mTransformação dos dados com preprocessador terminou.\u001b[0m\n",
      "\u001b[2m2024-02-05 15:14:36\u001b[0m [\u001b[32m\u001b[1minfo     \u001b[0m] \u001b[1mIniciou a validação cruzada.  \u001b[0m\n",
      "\u001b[2m2024-02-05 15:14:38\u001b[0m [\u001b[32m\u001b[1minfo     \u001b[0m] \u001b[1mIniciou a validação do modelo.\u001b[0m\n",
      " 40%|████      | 2/5 [00:50<01:07, 22.48s/trial, best loss: -0.8062426560063856]"
     ]
    },
    {
     "name": "stderr",
     "output_type": "stream",
     "text": [
      "Distutils was imported before Setuptools, but importing Setuptools also replaces the `distutils` module in `sys.modules`. This may lead to undesirable behaviors or errors. To avoid these issues, avoid using distutils directly, ensure that setuptools is installed in the traditional way (e.g. not an editable install), and/or make sure that setuptools is always imported before distutils.\n",
      "\n",
      "Setuptools is replacing distutils.\n",
      "\n",
      "Hint: Inferred schema contains integer column(s). Integer columns in Python cannot represent missing values. If your input data contains missing values at inference time, it will be encoded as floats and will cause a schema enforcement error. The best way to avoid this problem is to infer the model schema based on a realistic data sample (training dataset) that includes missing values. Alternatively, you can declare integer columns as doubles (float64) whenever these columns may have missing values. See `Handling Integers With Missing Values <https://www.mlflow.org/docs/latest/models.html#handling-integers-with-missing-values>`_ for more details.\n",
      "\n",
      "Distutils was imported before Setuptools, but importing Setuptools also replaces the `distutils` module in `sys.modules`. This may lead to undesirable behaviors or errors. To avoid these issues, avoid using distutils directly, ensure that setuptools is installed in the traditional way (e.g. not an editable install), and/or make sure that setuptools is always imported before distutils.\n",
      "\n",
      "Setuptools is replacing distutils.\n",
      "\n",
      "Downloading artifacts:   0%|          | 0/5 [00:00<?, ?it/s]\n",
      "Downloading artifacts:  20%|##        | 1/5 [00:00<00:00, 100.81it/s]\n",
      "Downloading artifacts:  40%|####      | 2/5 [00:00<00:00, 102.11it/s]\n",
      "Downloading artifacts:  60%|######    | 3/5 [00:00<00:00, 105.50it/s]\n",
      "Downloading artifacts:  80%|########  | 4/5 [00:00<00:00, 122.79it/s]\n",
      "Downloading artifacts: 100%|##########| 5/5 [00:00<00:00, 142.98it/s]\n",
      "Downloading artifacts: 100%|##########| 5/5 [00:00<00:00, 133.49it/s]\n",
      "Downloading artifacts:   0%|          | 0/5 [00:00<?, ?it/s]\n",
      "Downloading artifacts:  20%|##        | 1/5 [00:00<00:00, 70.47it/s]\n",
      "Downloading artifacts:  40%|####      | 2/5 [00:00<00:00, 106.04it/s]\n",
      "Downloading artifacts:  60%|######    | 3/5 [00:00<00:00, 127.73it/s]\n",
      "Downloading artifacts:  80%|########  | 4/5 [00:00<00:00, 133.08it/s]\n",
      "Downloading artifacts: 100%|##########| 5/5 [00:00<00:00, 156.30it/s]\n",
      "Downloading artifacts: 100%|##########| 5/5 [00:00<00:00, 144.11it/s]\n",
      "DataFrame.applymap has been deprecated. Use DataFrame.map instead.\n",
      "\n",
      "DataFrame.applymap has been deprecated. Use DataFrame.map instead.\n",
      "\n",
      "DataFrame.applymap has been deprecated. Use DataFrame.map instead.\n",
      "\n",
      "Hint: Inferred schema contains integer column(s). Integer columns in Python cannot represent missing values. If your input data contains missing values at inference time, it will be encoded as floats and will cause a schema enforcement error. The best way to avoid this problem is to infer the model schema based on a realistic data sample (training dataset) that includes missing values. Alternatively, you can declare integer columns as doubles (float64) whenever these columns may have missing values. See `Handling Integers With Missing Values <https://www.mlflow.org/docs/latest/models.html#handling-integers-with-missing-values>`_ for more details.\n",
      "\n",
      "2024/02/05 15:14:45 INFO mlflow.models.evaluation.base: Evaluating the model with the default evaluator.\n",
      "\n",
      "2024/02/05 15:14:45 INFO mlflow.models.evaluation.default_evaluator: Evaluating candidate model:\n",
      "\n",
      "2024/02/05 15:14:45 INFO mlflow.models.evaluation.default_evaluator: Computing model predictions.\n",
      "\n",
      "2024/02/05 15:14:45 INFO mlflow.models.evaluation.default_evaluator: The evaluation dataset is inferred as binary dataset, positive label is 1, negative label is 0.\n",
      "\n",
      "2024/02/05 15:14:45 INFO mlflow.models.evaluation.default_evaluator: Testing metrics on first row...\n",
      "\n",
      "2024/02/05 15:14:46 INFO mlflow.models.evaluation.default_evaluator: Shap explainer LinearExplainer is used.\n",
      "\n",
      "Unable to serialize underlying model using MLflow, will use SHAP serialization\n",
      "\n",
      "2024/02/05 15:14:47 WARNING mlflow.models.evaluation.default_evaluator: Logging explainer failed. Reason: AttributeError(\"'LogisticRegression' object has no attribute 'save'\"). Set logging level to DEBUG to see the full traceback.\n",
      "\n",
      "2024/02/05 15:14:49 INFO mlflow.models.evaluation.default_evaluator: Evaluating baseline model:\n",
      "\n",
      "2024/02/05 15:14:49 INFO mlflow.models.evaluation.default_evaluator: Computing model predictions.\n",
      "\n",
      "2024/02/05 15:14:49 INFO mlflow.models.evaluation.default_evaluator: The evaluation dataset is inferred as binary dataset, positive label is 1, negative label is 0.\n",
      "\n",
      "2024/02/05 15:14:49 INFO mlflow.models.evaluation.default_evaluator: Testing metrics on first row...\n",
      "\n",
      "2024/02/05 15:14:49 INFO mlflow.models.evaluation.base: Validating generated model metrics\n",
      "\n",
      "2024/02/05 15:14:49 INFO mlflow.models.evaluation.base: Model validation passed!\n",
      "\n"
     ]
    },
    {
     "name": "stdout",
     "output_type": "stream",
     "text": [
      "\u001b[2m2024-02-05 15:14:50\u001b[0m [\u001b[32m\u001b[1minfo     \u001b[0m] \u001b[1mPré-processamento iniciou.    \u001b[0m\n",
      "\u001b[2m2024-02-05 15:14:50\u001b[0m [\u001b[32m\u001b[1minfo     \u001b[0m] \u001b[1mpré-processamento terminou    \u001b[0m\n",
      "\u001b[2m2024-02-05 15:14:50\u001b[0m [\u001b[32m\u001b[1minfo     \u001b[0m] \u001b[1mTransformação dos dados com preprocessador iniciou.\u001b[0m\n",
      "\u001b[2m2024-02-05 15:14:50\u001b[0m [\u001b[32m\u001b[1minfo     \u001b[0m] \u001b[1mTransformação dos dados com preprocessador terminou.\u001b[0m\n",
      "\u001b[2m2024-02-05 15:14:50\u001b[0m [\u001b[32m\u001b[1minfo     \u001b[0m] \u001b[1mTransformação dos dados com preprocessador iniciou.\u001b[0m\n",
      "\u001b[2m2024-02-05 15:14:51\u001b[0m [\u001b[32m\u001b[1minfo     \u001b[0m] \u001b[1mTransformação dos dados com preprocessador terminou.\u001b[0m\n",
      "\u001b[2m2024-02-05 15:14:51\u001b[0m [\u001b[32m\u001b[1minfo     \u001b[0m] \u001b[1mIniciou a validação cruzada.  \u001b[0m\n",
      "\u001b[2m2024-02-05 15:14:52\u001b[0m [\u001b[32m\u001b[1minfo     \u001b[0m] \u001b[1mIniciou a validação do modelo.\u001b[0m\n",
      " 60%|██████    | 3/5 [01:04<00:37, 18.89s/trial, best loss: -0.8062426560063856]"
     ]
    },
    {
     "name": "stderr",
     "output_type": "stream",
     "text": [
      "Distutils was imported before Setuptools, but importing Setuptools also replaces the `distutils` module in `sys.modules`. This may lead to undesirable behaviors or errors. To avoid these issues, avoid using distutils directly, ensure that setuptools is installed in the traditional way (e.g. not an editable install), and/or make sure that setuptools is always imported before distutils.\n",
      "\n",
      "Setuptools is replacing distutils.\n",
      "\n",
      "Hint: Inferred schema contains integer column(s). Integer columns in Python cannot represent missing values. If your input data contains missing values at inference time, it will be encoded as floats and will cause a schema enforcement error. The best way to avoid this problem is to infer the model schema based on a realistic data sample (training dataset) that includes missing values. Alternatively, you can declare integer columns as doubles (float64) whenever these columns may have missing values. See `Handling Integers With Missing Values <https://www.mlflow.org/docs/latest/models.html#handling-integers-with-missing-values>`_ for more details.\n",
      "\n",
      "Distutils was imported before Setuptools, but importing Setuptools also replaces the `distutils` module in `sys.modules`. This may lead to undesirable behaviors or errors. To avoid these issues, avoid using distutils directly, ensure that setuptools is installed in the traditional way (e.g. not an editable install), and/or make sure that setuptools is always imported before distutils.\n",
      "\n",
      "Setuptools is replacing distutils.\n",
      "\n",
      "Downloading artifacts:   0%|          | 0/5 [00:00<?, ?it/s]\n",
      "Downloading artifacts:  20%|##        | 1/5 [00:00<00:00, 72.41it/s]\n",
      "Downloading artifacts:  40%|####      | 2/5 [00:00<00:00, 96.93it/s]\n",
      "Downloading artifacts:  60%|######    | 3/5 [00:00<00:00, 121.32it/s]\n",
      "Downloading artifacts:  80%|########  | 4/5 [00:00<00:00, 148.78it/s]\n",
      "Downloading artifacts: 100%|##########| 5/5 [00:00<00:00, 149.77it/s]\n",
      "Downloading artifacts: 100%|##########| 5/5 [00:00<00:00, 140.89it/s]\n",
      "Downloading artifacts:   0%|          | 0/5 [00:00<?, ?it/s]\n",
      "Downloading artifacts:  20%|##        | 1/5 [00:00<00:00, 142.44it/s]\n",
      "Downloading artifacts:  40%|####      | 2/5 [00:00<00:00, 102.33it/s]\n",
      "Downloading artifacts:  60%|######    | 3/5 [00:00<00:00, 117.68it/s]\n",
      "Downloading artifacts:  80%|########  | 4/5 [00:00<00:00, 146.96it/s]\n",
      "Downloading artifacts: 100%|##########| 5/5 [00:00<00:00, 174.55it/s]\n",
      "Downloading artifacts: 100%|##########| 5/5 [00:00<00:00, 169.20it/s]\n",
      "DataFrame.applymap has been deprecated. Use DataFrame.map instead.\n",
      "\n",
      "DataFrame.applymap has been deprecated. Use DataFrame.map instead.\n",
      "\n",
      "DataFrame.applymap has been deprecated. Use DataFrame.map instead.\n",
      "\n",
      "Hint: Inferred schema contains integer column(s). Integer columns in Python cannot represent missing values. If your input data contains missing values at inference time, it will be encoded as floats and will cause a schema enforcement error. The best way to avoid this problem is to infer the model schema based on a realistic data sample (training dataset) that includes missing values. Alternatively, you can declare integer columns as doubles (float64) whenever these columns may have missing values. See `Handling Integers With Missing Values <https://www.mlflow.org/docs/latest/models.html#handling-integers-with-missing-values>`_ for more details.\n",
      "\n",
      "2024/02/05 15:14:59 INFO mlflow.models.evaluation.base: Evaluating the model with the default evaluator.\n",
      "\n",
      "2024/02/05 15:14:59 INFO mlflow.models.evaluation.default_evaluator: Evaluating candidate model:\n",
      "\n",
      "2024/02/05 15:14:59 INFO mlflow.models.evaluation.default_evaluator: Computing model predictions.\n",
      "\n",
      "2024/02/05 15:14:59 INFO mlflow.models.evaluation.default_evaluator: The evaluation dataset is inferred as binary dataset, positive label is 1, negative label is 0.\n",
      "\n",
      "2024/02/05 15:14:59 INFO mlflow.models.evaluation.default_evaluator: Testing metrics on first row...\n",
      "\n",
      "2024/02/05 15:15:01 INFO mlflow.models.evaluation.default_evaluator: Shap explainer LinearExplainer is used.\n",
      "\n",
      "Unable to serialize underlying model using MLflow, will use SHAP serialization\n",
      "\n",
      "2024/02/05 15:15:01 WARNING mlflow.models.evaluation.default_evaluator: Logging explainer failed. Reason: AttributeError(\"'LogisticRegression' object has no attribute 'save'\"). Set logging level to DEBUG to see the full traceback.\n",
      "\n",
      "2024/02/05 15:15:03 INFO mlflow.models.evaluation.default_evaluator: Evaluating baseline model:\n",
      "\n",
      "2024/02/05 15:15:03 INFO mlflow.models.evaluation.default_evaluator: Computing model predictions.\n",
      "\n",
      "2024/02/05 15:15:03 INFO mlflow.models.evaluation.default_evaluator: The evaluation dataset is inferred as binary dataset, positive label is 1, negative label is 0.\n",
      "\n",
      "2024/02/05 15:15:03 INFO mlflow.models.evaluation.default_evaluator: Testing metrics on first row...\n",
      "\n",
      "2024/02/05 15:15:03 INFO mlflow.models.evaluation.base: Validating generated model metrics\n",
      "\n",
      "2024/02/05 15:15:03 INFO mlflow.models.evaluation.base: Model validation passed!\n",
      "\n"
     ]
    },
    {
     "name": "stdout",
     "output_type": "stream",
     "text": [
      "\u001b[2m2024-02-05 15:15:05\u001b[0m [\u001b[32m\u001b[1minfo     \u001b[0m] \u001b[1mPré-processamento iniciou.    \u001b[0m\n",
      "\u001b[2m2024-02-05 15:15:05\u001b[0m [\u001b[32m\u001b[1minfo     \u001b[0m] \u001b[1mpré-processamento terminou    \u001b[0m\n",
      "\u001b[2m2024-02-05 15:15:05\u001b[0m [\u001b[32m\u001b[1minfo     \u001b[0m] \u001b[1mTransformação dos dados com preprocessador iniciou.\u001b[0m\n",
      "\u001b[2m2024-02-05 15:15:05\u001b[0m [\u001b[32m\u001b[1minfo     \u001b[0m] \u001b[1mTransformação dos dados com preprocessador terminou.\u001b[0m\n",
      "\u001b[2m2024-02-05 15:15:05\u001b[0m [\u001b[32m\u001b[1minfo     \u001b[0m] \u001b[1mTransformação dos dados com preprocessador iniciou.\u001b[0m\n",
      "\u001b[2m2024-02-05 15:15:05\u001b[0m [\u001b[32m\u001b[1minfo     \u001b[0m] \u001b[1mTransformação dos dados com preprocessador terminou.\u001b[0m\n",
      "\u001b[2m2024-02-05 15:15:05\u001b[0m [\u001b[32m\u001b[1minfo     \u001b[0m] \u001b[1mIniciou a validação cruzada.  \u001b[0m\n",
      "\u001b[2m2024-02-05 15:15:07\u001b[0m [\u001b[32m\u001b[1minfo     \u001b[0m] \u001b[1mIniciou a validação do modelo.\u001b[0m\n",
      " 80%|████████  | 4/5 [01:19<00:17, 17.12s/trial, best loss: -0.8062426560063856]"
     ]
    },
    {
     "name": "stderr",
     "output_type": "stream",
     "text": [
      "Distutils was imported before Setuptools, but importing Setuptools also replaces the `distutils` module in `sys.modules`. This may lead to undesirable behaviors or errors. To avoid these issues, avoid using distutils directly, ensure that setuptools is installed in the traditional way (e.g. not an editable install), and/or make sure that setuptools is always imported before distutils.\n",
      "\n",
      "Setuptools is replacing distutils.\n",
      "\n",
      "Hint: Inferred schema contains integer column(s). Integer columns in Python cannot represent missing values. If your input data contains missing values at inference time, it will be encoded as floats and will cause a schema enforcement error. The best way to avoid this problem is to infer the model schema based on a realistic data sample (training dataset) that includes missing values. Alternatively, you can declare integer columns as doubles (float64) whenever these columns may have missing values. See `Handling Integers With Missing Values <https://www.mlflow.org/docs/latest/models.html#handling-integers-with-missing-values>`_ for more details.\n",
      "\n",
      "Distutils was imported before Setuptools, but importing Setuptools also replaces the `distutils` module in `sys.modules`. This may lead to undesirable behaviors or errors. To avoid these issues, avoid using distutils directly, ensure that setuptools is installed in the traditional way (e.g. not an editable install), and/or make sure that setuptools is always imported before distutils.\n",
      "\n",
      "Setuptools is replacing distutils.\n",
      "\n",
      "Downloading artifacts:   0%|          | 0/5 [00:00<?, ?it/s]\n",
      "Downloading artifacts:  20%|##        | 1/5 [00:00<00:00, 90.49it/s]\n",
      "Downloading artifacts:  40%|####      | 2/5 [00:00<00:00, 93.01it/s]\n",
      "Downloading artifacts:  60%|######    | 3/5 [00:00<00:00, 114.00it/s]\n",
      "Downloading artifacts:  80%|########  | 4/5 [00:00<00:00, 120.74it/s]\n",
      "Downloading artifacts: 100%|##########| 5/5 [00:00<00:00, 131.81it/s]\n",
      "Downloading artifacts: 100%|##########| 5/5 [00:00<00:00, 123.35it/s]\n",
      "Downloading artifacts:   0%|          | 0/5 [00:00<?, ?it/s]\n",
      "Downloading artifacts:  20%|##        | 1/5 [00:00<00:00, 157.43it/s]\n",
      "Downloading artifacts:  40%|####      | 2/5 [00:00<00:00, 105.82it/s]\n",
      "Downloading artifacts:  60%|######    | 3/5 [00:00<00:00, 128.20it/s]\n",
      "Downloading artifacts:  80%|########  | 4/5 [00:00<00:00, 140.73it/s]\n",
      "Downloading artifacts: 100%|##########| 5/5 [00:00<00:00, 151.36it/s]\n",
      "Downloading artifacts: 100%|##########| 5/5 [00:00<00:00, 145.92it/s]\n",
      "DataFrame.applymap has been deprecated. Use DataFrame.map instead.\n",
      "\n",
      "DataFrame.applymap has been deprecated. Use DataFrame.map instead.\n",
      "\n",
      "DataFrame.applymap has been deprecated. Use DataFrame.map instead.\n",
      "\n",
      "Hint: Inferred schema contains integer column(s). Integer columns in Python cannot represent missing values. If your input data contains missing values at inference time, it will be encoded as floats and will cause a schema enforcement error. The best way to avoid this problem is to infer the model schema based on a realistic data sample (training dataset) that includes missing values. Alternatively, you can declare integer columns as doubles (float64) whenever these columns may have missing values. See `Handling Integers With Missing Values <https://www.mlflow.org/docs/latest/models.html#handling-integers-with-missing-values>`_ for more details.\n",
      "\n",
      "2024/02/05 15:15:14 INFO mlflow.models.evaluation.base: Evaluating the model with the default evaluator.\n",
      "\n",
      "2024/02/05 15:15:14 INFO mlflow.models.evaluation.default_evaluator: Evaluating candidate model:\n",
      "\n",
      "2024/02/05 15:15:14 INFO mlflow.models.evaluation.default_evaluator: Computing model predictions.\n",
      "\n",
      "2024/02/05 15:15:14 INFO mlflow.models.evaluation.default_evaluator: The evaluation dataset is inferred as binary dataset, positive label is 1, negative label is 0.\n",
      "\n",
      "2024/02/05 15:15:14 INFO mlflow.models.evaluation.default_evaluator: Testing metrics on first row...\n",
      "\n",
      "2024/02/05 15:15:16 INFO mlflow.models.evaluation.default_evaluator: Shap explainer LinearExplainer is used.\n",
      "\n",
      "Unable to serialize underlying model using MLflow, will use SHAP serialization\n",
      "\n",
      "2024/02/05 15:15:16 WARNING mlflow.models.evaluation.default_evaluator: Logging explainer failed. Reason: AttributeError(\"'LogisticRegression' object has no attribute 'save'\"). Set logging level to DEBUG to see the full traceback.\n",
      "\n",
      "2024/02/05 15:15:18 INFO mlflow.models.evaluation.default_evaluator: Evaluating baseline model:\n",
      "\n",
      "2024/02/05 15:15:18 INFO mlflow.models.evaluation.default_evaluator: Computing model predictions.\n",
      "\n",
      "2024/02/05 15:15:18 INFO mlflow.models.evaluation.default_evaluator: The evaluation dataset is inferred as binary dataset, positive label is 1, negative label is 0.\n",
      "\n",
      "2024/02/05 15:15:18 INFO mlflow.models.evaluation.default_evaluator: Testing metrics on first row...\n",
      "\n",
      "2024/02/05 15:15:18 INFO mlflow.models.evaluation.base: Validating generated model metrics\n",
      "\n",
      "2024/02/05 15:15:18 INFO mlflow.models.evaluation.base: Model validation passed!\n",
      "\n"
     ]
    },
    {
     "name": "stdout",
     "output_type": "stream",
     "text": [
      "100%|██████████| 5/5 [01:31<00:00, 18.31s/trial, best loss: -0.8066865626572994]\n"
     ]
    }
   ],
   "source": [
    "best_result = fmin(fn=objective,\n",
    "                   space=search_space,\n",
    "                   algo=tpe.suggest,\n",
    "                   max_evals=5)"
   ]
  }
 ],
 "metadata": {
  "kernelspec": {
   "display_name": ".venv",
   "language": "python",
   "name": "python3"
  },
  "language_info": {
   "codemirror_mode": {
    "name": "ipython",
    "version": 3
   },
   "file_extension": ".py",
   "mimetype": "text/x-python",
   "name": "python",
   "nbconvert_exporter": "python",
   "pygments_lexer": "ipython3",
   "version": "3.10.12"
  }
 },
 "nbformat": 4,
 "nbformat_minor": 2
}
